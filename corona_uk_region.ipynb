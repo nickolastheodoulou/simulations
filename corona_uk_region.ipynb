{
 "cells": [
  {
   "cell_type": "code",
   "execution_count": 9,
   "metadata": {
    "collapsed": true,
    "pycharm": {
     "is_executing": false
    }
   },
   "outputs": [],
   "source": [
    "import requests\n",
    "import pandas as pd"
   ]
  },
  {
   "cell_type": "code",
   "execution_count": 10,
   "outputs": [],
   "source": [
    "r = requests.get('https://www.arcgis.com/sharing/rest/content/items/b684319181f94875a6879bbc833ca3a6/data')"
   ],
   "metadata": {
    "collapsed": false,
    "pycharm": {
     "name": "#%%\n",
     "is_executing": false
    }
   }
  },
  {
   "cell_type": "code",
   "execution_count": 13,
   "outputs": [
    {
     "name": "stdout",
     "text": [
      "Status code: 200\n",
      "<class 'str'>\n",
      "GSS_CD,GSS_NM,TotalCases\r\n",
      "E09000002,Barking and Dagenham,45\r\n",
      "E09000003,Barnet,99\r\n",
      "E08000016,Barnsley,15\r\n",
      "E06000022,Bath and North East Somerset,17\r\n",
      "E06000055,Bedford,7\r\n",
      "E09000004,Bexley,47\r\n",
      "E08000025,Birmingham,187\r\n",
      "E06000008,Blackburn with Darwen,2\r\n",
      "E06000009,Blackpool,8\r\n",
      "E08000001,Bolton,19\r\n",
      "E06000058,\"Bournemouth, Christchurch and Poole\",14\r\n",
      "E06000036,Bracknell Forest,3\r\n",
      "E08000032,Bradford,14\r\n",
      "E09000005,Brent,170\r\n",
      "E06000043,Brighton and Hove,25\r\n",
      "E06000023,\"Bristol, City of\",37\r\n",
      "E09000006,Bromley,93\r\n",
      "E10000002,Buckinghamshire,50\r\n",
      "E08000002,Bury,17\r\n",
      "E08000033,Calderdale,7\r\n",
      "E10000003,Cambridgeshire,37\r\n",
      "E09000007,Camden,64\r\n",
      "E06000056,Central Bedfordshire,22\r\n",
      "E06000049,Cheshire East,25\r\n",
      "E06000050,Cheshire West and Chester,18\r\n",
      "E06000052,Cornwall and Isles of Scilly,30\r\n",
      "E06000047,County Durham,18\r\n",
      "E08000026,Coventry,24\r\n",
      "E09000008,Croydon,128\r\n",
      "E10000006,Cumbria,129\r\n",
      "E06000005,Darlington,3\r\n",
      "E06000015,Derby,37\r\n",
      "E10000007,Derbyshire,101\r\n",
      "E10000008,Devon,48\r\n",
      "E08000017,Doncaster,13\r\n",
      "E06000059,Dorset,15\r\n",
      "E08000027,Dudley,40\r\n",
      "E09000009,Ealing,123\r\n",
      "E06000011,East Riding of Yorkshire,16\r\n",
      "E10000011,East Sussex,21\r\n",
      "E09000010,Enfield,84\r\n",
      "E10000012,Essex,80\r\n",
      "E08000037,Gateshead,5\r\n",
      "E10000013,Gloucestershire,49\r\n",
      "E09000011,Greenwich,77\r\n",
      "E09000012,Hackney and City of London,74\r\n",
      "E06000006,Halton,8\r\n",
      "E09000013,Hammersmith and Fulham,70\r\n",
      "E10000014,Hampshire,207\r\n",
      "E09000014,Haringey,72\r\n",
      "E09000015,Harrow,134\r\n",
      "E06000001,Hartlepool,3\r\n",
      "E09000016,Havering,44\r\n",
      "E06000019,\"Herefordshire, County of\",15\r\n",
      "E10000015,Hertfordshire,139\r\n",
      "E09000017,Hillingdon,85\r\n",
      "E09000018,Hounslow,82\r\n",
      "E06000046,Isle of Wight,3\r\n",
      "E09000019,Islington,66\r\n",
      "E09000020,Kensington and Chelsea,91\r\n",
      "E10000016,Kent,72\r\n",
      "E06000010,\"Kingston upon Hull, City of\",1\r\n",
      "E09000021,Kingston upon Thames,36\r\n",
      "E08000034,Kirklees,17\r\n",
      "E08000011,Knowsley,8\r\n",
      "E09000022,Lambeth,188\r\n",
      "E10000017,Lancashire,71\r\n",
      "E08000035,Leeds,42\r\n",
      "E06000016,Leicester,24\r\n",
      "E10000018,Leicestershire,65\r\n",
      "E09000023,Lewisham,97\r\n",
      "E10000019,Lincolnshire,24\r\n",
      "E08000012,Liverpool,41\r\n",
      "E06000032,Luton,19\r\n",
      "E08000003,Manchester,41\r\n",
      "E06000035,Medway,19\r\n",
      "E09000024,Merton,84\r\n",
      "E06000002,Middlesbrough,7\r\n",
      "E06000042,Milton Keynes,25\r\n",
      "E08000021,Newcastle upon Tyne,49\r\n",
      "E09000025,Newham,76\r\n",
      "E10000020,Norfolk,42\r\n",
      "E06000012,North East Lincolnshire,3\r\n",
      "E06000013,North Lincolnshire,5\r\n",
      "E06000024,North Somerset,21\r\n",
      "E08000022,North Tyneside,20\r\n",
      "E10000023,North Yorkshire,30\r\n",
      "E10000021,Northamptonshire,37\r\n",
      "E06000057,Northumberland,13\r\n",
      "E06000018,Nottingham,49\r\n",
      "E10000024,Nottinghamshire,78\r\n",
      "E08000004,Oldham,34\r\n",
      "E10000025,Oxfordshire,69\r\n",
      "E06000031,Peterborough,6\r\n",
      "E06000026,Plymouth,16\r\n",
      "E06000044,Portsmouth,29\r\n",
      "E06000038,Reading,8\r\n",
      "E09000026,Redbridge,57\r\n",
      "E06000003,Redcar and Cleveland,7\r\n",
      "E09000027,Richmond upon Thames,36\r\n",
      "E08000005,Rochdale,24\r\n",
      "E08000018,Rotherham,16\r\n",
      "E06000017,Rutland,0\r\n",
      "E08000006,Salford,31\r\n",
      "E08000028,Sandwell,47\r\n",
      "E08000014,Sefton,13\r\n",
      "E08000019,Sheffield,130\r\n",
      "E06000051,Shropshire,27\r\n",
      "E06000039,Slough,22\r\n",
      "E08000029,Solihull,12\r\n",
      "E10000027,Somerset,21\r\n",
      "E06000025,South Gloucestershire,19\r\n",
      "E08000023,South Tyneside,8\r\n",
      "E06000045,Southampton,24\r\n",
      "E06000033,Southend-on-Sea,8\r\n",
      "E09000028,Southwark,181\r\n",
      "E08000013,St. Helens,8\r\n",
      "E10000028,Staffordshire,76\r\n",
      "E08000007,Stockport,42\r\n",
      "E06000004,Stockton-on-Tees,12\r\n",
      "E06000021,Stoke-on-Trent,9\r\n",
      "E10000029,Suffolk,28\r\n",
      "E08000024,Sunderland,20\r\n",
      "E10000030,Surrey,110\r\n",
      "E09000029,Sutton,40\r\n",
      "E06000030,Swindon,7\r\n",
      "E08000008,Tameside,32\r\n",
      "E06000020,Telford and Wrekin,9\r\n",
      "E06000034,Thurrock,15\r\n",
      "E06000027,Torbay,17\r\n",
      "E09000030,Tower Hamlets,70\r\n",
      "E08000009,Trafford,31\r\n",
      "E08000036,Wakefield,13\r\n",
      "E08000030,Walsall,43\r\n",
      "E09000031,Waltham Forest,61\r\n",
      "E09000032,Wandsworth,155\r\n",
      "E06000007,Warrington,8\r\n",
      "E10000031,Warwickshire,52\r\n",
      "E06000037,West Berkshire,12\r\n",
      "E10000032,West Sussex,52\r\n",
      "E09000033,Westminster,143\r\n",
      "E08000010,Wigan,11\r\n",
      "E06000054,Wiltshire,34\r\n",
      "E06000040,Windsor and Maidenhead,13\r\n",
      "E08000015,Wirral,15\r\n",
      "E06000041,Wokingham,13\r\n",
      "E08000031,Wolverhampton,81\r\n",
      "E10000034,Worcestershire,38\r\n",
      "E06000014,York,11\r\n",
      "\n"
     ],
     "output_type": "stream"
    }
   ],
   "source": [
    "print('Status code: ' + str(r.status_code))\n",
    "data = r.text\n",
    "print(type(data))\n",
    "print(data)"
   ],
   "metadata": {
    "collapsed": false,
    "pycharm": {
     "name": "#%%\n",
     "is_executing": false
    }
   }
  },
  {
   "cell_type": "code",
   "execution_count": 12,
   "outputs": [
    {
     "name": "stdout",
     "text": [
      "             0                             1             2     3\n",
      "0       GSS_CD                        GSS_NM  TotalCases\\r  None\n",
      "1    E09000002          Barking and Dagenham          45\\r  None\n",
      "2    E09000003                        Barnet          99\\r  None\n",
      "3    E08000016                      Barnsley          15\\r  None\n",
      "4    E06000022  Bath and North East Somerset          17\\r  None\n",
      "..         ...                           ...           ...   ...\n",
      "146  E06000041                     Wokingham          13\\r  None\n",
      "147  E08000031                 Wolverhampton          81\\r  None\n",
      "148  E10000034                Worcestershire          38\\r  None\n",
      "149  E06000014                          York          11\\r  None\n",
      "150                                     None          None  None\n",
      "\n",
      "[151 rows x 4 columns]\n"
     ],
     "output_type": "stream"
    }
   ],
   "source": [
    "df = pd.DataFrame([x.split(',') for x in data.split('\\n')])\n",
    "print(df)\n"
   ],
   "metadata": {
    "collapsed": false,
    "pycharm": {
     "name": "#%%\n",
     "is_executing": false
    }
   }
  },
  {
   "cell_type": "code",
   "execution_count": 14,
   "outputs": [],
   "source": [
    "df.to_csv('test.csv', index=False)"
   ],
   "metadata": {
    "collapsed": false,
    "pycharm": {
     "name": "#%%\n",
     "is_executing": false
    }
   }
  },
  {
   "cell_type": "code",
   "execution_count": null,
   "outputs": [],
   "source": [
    "\n"
   ],
   "metadata": {
    "collapsed": false,
    "pycharm": {
     "name": "#%%\n"
    }
   }
  }
 ],
 "metadata": {
  "kernelspec": {
   "display_name": "Python 3",
   "language": "python",
   "name": "python3"
  },
  "language_info": {
   "codemirror_mode": {
    "name": "ipython",
    "version": 2
   },
   "file_extension": ".py",
   "mimetype": "text/x-python",
   "name": "python",
   "nbconvert_exporter": "python",
   "pygments_lexer": "ipython2",
   "version": "2.7.6"
  },
  "pycharm": {
   "stem_cell": {
    "cell_type": "raw",
    "source": [],
    "metadata": {
     "collapsed": false
    }
   }
  }
 },
 "nbformat": 4,
 "nbformat_minor": 0
}